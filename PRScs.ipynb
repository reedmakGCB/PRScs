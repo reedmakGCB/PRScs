{
 "cells": [
  {
   "cell_type": "markdown",
   "id": "0",
   "metadata": {},
   "source": [
    "# PRS CS "
   ]
  },
  {
   "cell_type": "markdown",
   "id": "1",
   "metadata": {},
   "source": [
    "## 1. GWAS sumstats prep "
   ]
  },
  {
   "cell_type": "markdown",
   "id": "2",
   "metadata": {},
   "source": [
    "### 1.1 Read in data "
   ]
  },
  {
   "cell_type": "markdown",
   "id": "3",
   "metadata": {
    "jp-MarkdownHeadingCollapsed": true
   },
   "source": [
    "###### &nbsp;&nbsp;&nbsp;&nbsp;&nbsp;&nbsp;&nbsp;&nbsp; Make sure to be in R kernerl \n",
    "##### &nbsp;&nbsp;&nbsp;&nbsp;&nbsp;&nbsp;&nbsp;&nbsp; (for more information on how to format files - https://github.com/getian107/PRScs)"
   ]
  },
  {
   "cell_type": "markdown",
   "id": "4",
   "metadata": {},
   "source": [
    "####  T2D Phenotype - EUR and AFR (separate)"
   ]
  },
  {
   "cell_type": "markdown",
   "id": "5",
   "metadata": {},
   "source": [
    "## *EUR Ancestry*"
   ]
  },
  {
   "cell_type": "code",
   "execution_count": null,
   "id": "6",
   "metadata": {},
   "outputs": [],
   "source": [
    "library(data.table)\n",
    "# unchanged summ stats - reading in original files off server \n",
    "diabetesEURData <- fread('/project/rkemberlab/summary_stats/EUR/Suzuki_2024_T2D_EUR-v2.txt')\n",
    "head(diabetesEURData)"
   ]
  },
  {
   "cell_type": "markdown",
   "id": "7",
   "metadata": {},
   "source": [
    "### 1.1.1 Merge with rs SNP data if needed"
   ]
  },
  {
   "cell_type": "markdown",
   "id": "8",
   "metadata": {},
   "source": [
    "##### &nbsp;&nbsp;&nbsp;&nbsp;&nbsp;&nbsp;&nbsp;&nbsp; Check with summ stats methods to see what genome ref used - in this case they used hg19 which is the same as the following snp ref being used \n",
    "##### &nbsp;&nbsp;&nbsp;&nbsp;&nbsp;&nbsp;&nbsp;&nbsp; Merge twice (effectAllele - A1 , NonEffectAllele - A2) (effectAllele - A2, NonEffectAllele - A1) "
   ]
  },
  {
   "cell_type": "code",
   "execution_count": null,
   "id": "9",
   "metadata": {},
   "outputs": [],
   "source": [
    "snpinfoEURhg19 <- fread('/project/rkemberlab/tools/PRScs/PRScsScore/ldblk_1kg_eur/snpinfo_1kg_hm3')\n",
    "head(snpinfoEUR)\n",
    "diabEUR_mergedRS_1 <- merge(diabetesEURData, snpinfoEURhg19, by.x = c('Chromsome', 'Position', 'EffectAllele', 'NonEffectAllele'), by.y = c('CHR', 'BP', 'A1', 'A2'))\n",
    "diabEUR_mergedRS_2 <- merge(diabetesEURData, snpinfoEURhg19, by.x = c('Chromsome', 'Position', 'EffectAllele', 'NonEffectAllele'), by.y = c('CHR', 'BP', 'A2', 'A1'))\n",
    "nrow(diabEUR_mergedRS_1)\n",
    "nrow(diabEUR_mergedRS_2)\n",
    "diabEUR_mergedRS <- rbind(diabEUR_mergedRS_1, diabEUR_mergedRS_2)\n",
    "head(diabEUR_mergedRS)"
   ]
  },
  {
   "cell_type": "markdown",
   "id": "10",
   "metadata": {},
   "source": [
    "### 1.2 Determine neff or sample size for --N param"
   ]
  },
  {
   "cell_type": "code",
   "execution_count": null,
   "id": "11",
   "metadata": {},
   "outputs": [],
   "source": [
    "N <- diabEUR_mergedRS$Neff\n",
    "N <- as.numeric(N)\n",
    "N <- na.omit(N)\n",
    "max(N)"
   ]
  },
  {
   "cell_type": "markdown",
   "id": "12",
   "metadata": {},
   "source": [
    "### 1.3 Extract and Rename Columns and  Upper the allele"
   ]
  },
  {
   "cell_type": "code",
   "execution_count": null,
   "id": "13",
   "metadata": {},
   "outputs": [],
   "source": [
    "diabEURdf <- diabEUR_mergedRS[,c('SNP','EffectAllele','NonEffectAllele','Beta','Pval')] #ouput file names\n",
    "names(diabEURdf) <- c('SNP','A1','A2','BETA','P')\n",
    "# Upper the Allele\n",
    "diabEURdf$A1 <- toupper(diabEURdf$A1)\n",
    "diabEURdf$A2 <- toupper(diabEURdf$A2)\n",
    "fwrite(diabEURdf,'/project/rkemberlab/summary_stats/reformatted_sumstats/prscs_prscsx/T2D_eur_Suzuki2024_reformatted_sumstats.txt',row.names = F,col.names = T,sep = '\\t')\n",
    "head(diabEURdf)"
   ]
  },
  {
   "cell_type": "markdown",
   "id": "14",
   "metadata": {},
   "source": [
    "## 2. run PRScs code  "
   ]
  },
  {
   "cell_type": "markdown",
   "id": "15",
   "metadata": {},
   "source": [
    "##### &nbsp;&nbsp;&nbsp;&nbsp;&nbsp;&nbsp;&nbsp;&nbsp; Change into bash kernel "
   ]
  },
  {
   "cell_type": "markdown",
   "id": "16",
   "metadata": {},
   "source": [
    "### 2.1.1 Check run_prscs_eur script "
   ]
  },
  {
   "cell_type": "code",
   "execution_count": null,
   "id": "17",
   "metadata": {},
   "outputs": [],
   "source": [
    "cat /project/rkemberlab/scripts/run_prscs_eur.sh"
   ]
  },
  {
   "cell_type": "markdown",
   "id": "18",
   "metadata": {},
   "source": [
    "### 2.1.2 Check prscs_eur script "
   ]
  },
  {
   "cell_type": "code",
   "execution_count": null,
   "id": "19",
   "metadata": {},
   "outputs": [],
   "source": [
    "cat /project/rkemberlab/scripts/prscs_eur.sh "
   ]
  },
  {
   "cell_type": "markdown",
   "id": "20",
   "metadata": {},
   "source": [
    "### 2.2 Run bash script \n",
    "##### &nbsp;&nbsp;&nbsp;&nbsp;&nbsp;&nbsp;&nbsp;&nbsp; Command line prompt and param order :\n",
    "##### &nbsp;&nbsp;&nbsp;&nbsp;&nbsp;&nbsp;&nbsp;&nbsp;&nbsp;&nbsp;&nbsp;&nbsp;&nbsp;&nbsp; [script] [path to reformatted sum stats] [sample size] [path to out dir] [file prefix] "
   ]
  },
  {
   "cell_type": "code",
   "execution_count": null,
   "id": "21",
   "metadata": {},
   "outputs": [],
   "source": [
    "sh /project/rkemberlab/scripts/run_prscs_eur.sh /project/rkemberlab/summary_stats/reformatted_sumstats/prscs_prscsx/T2D_eur_Suzuki2024_reformatted_sumstats.txt 751755 /home/mlreed/PRSCalcs/EUR/T2D/ Suzuki2024T2D_EUR   "
   ]
  },
  {
   "cell_type": "markdown",
   "id": "22",
   "metadata": {},
   "source": [
    "### 2.3 Merge the PRScs outputs for each chrom into one file "
   ]
  },
  {
   "cell_type": "code",
   "execution_count": null,
   "id": "23",
   "metadata": {},
   "outputs": [],
   "source": [
    "cat /home/mlreed/PRSCalcs/EUR/T2D/prscs_EUR_Suzuki2024T2D_EUR_pst_eff_a1_b0.5_phiauto_chr* > /home/mlreed/PRSCalcs/EUR/T2D/prscs_EUR_Suzuki2024T2D_pst_eff_a1_b0.5_phiauto_chrALL.txt"
   ]
  },
  {
   "cell_type": "markdown",
   "id": "24",
   "metadata": {},
   "source": [
    "### 2.4 Calculate PRS with plink"
   ]
  },
  {
   "cell_type": "code",
   "execution_count": null,
   "id": "25",
   "metadata": {},
   "outputs": [],
   "source": [
    "module load plink-1.90b3b\n",
    "plink \\\n",
    "--bfile /project/rkemberlab/datasets/PMBB/Genotype/PMBB-Release-2020-2.0/PMBB-Release-2020-2.0_genetic_imputed-topmed-r2_chrAll_1kg_hm3_eur_newID_EUR \\\n",
    "--score /home/mlreed/PRSCalcs/EUR/T2D/prscs_EUR_Suzuki2024T2D_pst_eff_a1_b0.5_phiauto_chrALL.txt 2 4 6 \\\n",
    "--out PRS_prscs_EUR_T2D"
   ]
  },
  {
   "cell_type": "markdown",
   "id": "26",
   "metadata": {},
   "source": [
    "## *AFR Ancestry*"
   ]
  },
  {
   "cell_type": "markdown",
   "id": "27",
   "metadata": {},
   "source": [
    "##### Change back to R "
   ]
  },
  {
   "cell_type": "code",
   "execution_count": null,
   "id": "28",
   "metadata": {},
   "outputs": [],
   "source": [
    "library(data.table)\n",
    "diabetesAFRData <- fread('/project/rkemberlab/summary_stats/AFR/Suzuki_2024_T2D_AFR-v2.txt')\n",
    "snpinfoAFRhg19 <- fread('/project/rkemberlab/tools/PRScs/PRScsScore/ldblk_1kg_afr/snpinfo_1kg_hm3')\n",
    "head(snpinfoAFRhg19)\n",
    "diabAFR_mergedRS_1 <- merge(diabetesAFRData, snpinfoAFRhg19, by.x = c('Chromsome', 'Position', 'EffectAllele', 'NonEffectAllele'), by.y = c('CHR', 'BP', 'A1', 'A2'))\n",
    "diabAFR_mergedRS_2 <- merge(diabetesAFRData, snpinfoAFRhg19, by.x = c('Chromsome', 'Position', 'EffectAllele', 'NonEffectAllele'), by.y = c('CHR', 'BP', 'A2', 'A1'))\n",
    "nrow(diabAFR_mergedRS_1)\n",
    "nrow(diabAFR_mergedRS_2)\n",
    "diabAFR_mergedRS <- rbind(diabAFR_mergedRS_1, diabAFR_mergedRS_2)\n",
    "nrow(diabAFR_mergedRS)\n",
    "head(diabAFR_mergedRS)\n",
    "N <- diabAFR_mergedRS$Neff\n",
    "N <- as.numeric(N)\n",
    "N <- na.omit(N)\n",
    "max(N)"
   ]
  },
  {
   "cell_type": "code",
   "execution_count": null,
   "id": "29",
   "metadata": {},
   "outputs": [],
   "source": [
    "diabAFRdf <- diabAFR_mergedRS[,c('SNP','EffectAllele','NonEffectAllele','Beta','Pval')] #ouput file names\n",
    "names(diabAFRdf) <- c('SNP','A1','A2','BETA','P')\n",
    " # Upper the Allele\n",
    "diabAFRdf$A1 <- toupper(diabAFRdf$A1)\n",
    "diabAFRdf$A2 <- toupper(diabAFRdf$A2)\n",
    "fwrite(diabAFRdf,'/project/rkemberlab/summary_stats/reformatted_sumstats/prscs_prscsx/T2D_afr_Suzuki2024_reformatted_sumstats.txt',row.names = F,col.names = T,sep = '\\t')\n",
    "head(diabAFRdf)"
   ]
  },
  {
   "cell_type": "markdown",
   "id": "30",
   "metadata": {},
   "source": [
    "##### Change back to bash"
   ]
  },
  {
   "cell_type": "code",
   "execution_count": null,
   "id": "31",
   "metadata": {},
   "outputs": [],
   "source": [
    "cat /project/rkemberlab/scripts/prscs_afr.sh "
   ]
  },
  {
   "cell_type": "code",
   "execution_count": null,
   "id": "32",
   "metadata": {},
   "outputs": [],
   "source": [
    "cat /project/rkemberlab/scripts/run_prscs_afr.sh "
   ]
  },
  {
   "cell_type": "code",
   "execution_count": null,
   "id": "33",
   "metadata": {},
   "outputs": [],
   "source": [
    "sh /project/rkemberlab/scripts/run_prscs_afr.sh /project/rkemberlab/summary_stats/reformatted_sumstats/prscs_prscsx/T2D_afr_Suzuki2024_reformatted_sumstats.txt 130709 /home/mlreed/PRSCalcs/AFR/T2D/ Suzuki2024T2D_AFR   "
   ]
  },
  {
   "cell_type": "code",
   "execution_count": null,
   "id": "34",
   "metadata": {},
   "outputs": [],
   "source": [
    "cat /home/mlreed/PRSCalcs/AFR/T2D/prscs_AFR_Suzuki2024T2D_AFR_pst_eff_a1_b0.5_phiauto_chr* > /home/mlreed/PRSCalcs/AFR/T2D/prscs_AFR_Suzuki2024T2D_pst_eff_a1_b0.5_phiauto_chrALL.txt"
   ]
  },
  {
   "cell_type": "code",
   "execution_count": null,
   "id": "35",
   "metadata": {},
   "outputs": [],
   "source": [
    "module load plink-1.90b3b\n",
    "plink \\\n",
    "--bfile /project/rkemberlab/datasets/PMBB/Genotype/PMBB-Release-2020-2.0/PMBB-Release-2020-2.0_genetic_imputed-topmed-r2_chrAll_1kg_hm3_afr_newID_AFR \\\n",
    "--score /home/mlreed/PRSCalcs/AFR/T2D/prscs_AFR_Suzuki2024T2D_pst_eff_a1_b0.5_phiauto_chrALL.txt 2 4 6 \\\n",
    "--out PRS_prscs_AFR_T2D"
   ]
  },
  {
   "cell_type": "markdown",
   "id": "36",
   "metadata": {},
   "source": [
    "## Cardio Phenotype - EUR Only "
   ]
  },
  {
   "cell_type": "markdown",
   "id": "37",
   "metadata": {},
   "source": [
    "#####  &nbsp;&nbsp;&nbsp;&nbsp;&nbsp;&nbsp;&nbsp;&nbsp; Switch to R kernel "
   ]
  },
  {
   "cell_type": "code",
   "execution_count": null,
   "id": "38",
   "metadata": {},
   "outputs": [],
   "source": [
    "library(data.table)\n",
    "cardioData <- fread('/project/rkemberlab/summary_stats/EUR/Nelson_2017_Cardio_EUR.txt')"
   ]
  },
  {
   "cell_type": "code",
   "execution_count": null,
   "id": "39",
   "metadata": {},
   "outputs": [],
   "source": [
    "head(cardioData)\n",
    "snpinfoEUR <- fread('/project/rkemberlab/tools/PRScs/PRScsScore/ldblk_1kg_eur/snpinfo_1kg_hm3')\n",
    "head(snpinfoEUR)"
   ]
  },
  {
   "cell_type": "code",
   "execution_count": null,
   "id": "40",
   "metadata": {},
   "outputs": [],
   "source": [
    "cardio_mergedRS_1 <- merge(cardioData, snpinfoEUR, by.x = c('chr', 'bp_hg19', 'effect_allele', 'noneffect_allele'), by.y = c('CHR', 'BP', 'A1', 'A2'))\n",
    "cardio_mergedRS_2 <- merge(cardioData, snpinfoEUR, by.x = c('chr', 'bp_hg19', 'effect_allele', 'noneffect_allele'), by.y = c('CHR', 'BP', 'A2', 'A1'))"
   ]
  },
  {
   "cell_type": "code",
   "execution_count": null,
   "id": "41",
   "metadata": {},
   "outputs": [],
   "source": [
    "nrow(cardio_mergedRS_1)\n",
    "nrow(cardio_mergedRS_2)\n",
    "cardio_mergedRS <- rbind(cardio_mergedRS_1, cardio_mergedRS_2)\n",
    "nrow(cardio_mergedRS)\n",
    "head(cardio_mergedRS)"
   ]
  },
  {
   "cell_type": "code",
   "execution_count": null,
   "id": "42",
   "metadata": {},
   "outputs": [],
   "source": [
    "cardioNeff <- (4*(60801*123504))/(60801+123504)\n",
    "cardioNeff"
   ]
  },
  {
   "cell_type": "code",
   "execution_count": null,
   "id": "43",
   "metadata": {},
   "outputs": [],
   "source": [
    "cardioDf <- cardio_mergedRS[,c('SNP','effect_allele','noneffect_allele','beta','het_pvalue')] #ouput file names\n",
    "names(cardioDf) <- c('SNP','A1','A2','BETA','P')\n",
    "# Upper the Allele\n",
    "cardioDf$A1 <- toupper(cardioDf$A1)\n",
    "cardioDf$A2 <- toupper(cardioDf$A2)\n",
    "fwrite(cardioDf,'/project/rkemberlab/summary_stats/reformatted_sumstats/prscs_prscsx/cardio_eur_Nelson2017_reformatted_sumstats.txt',row.names = F,col.names = T,sep = '\\t')\n",
    "head(cardioDf)"
   ]
  },
  {
   "cell_type": "markdown",
   "id": "44",
   "metadata": {},
   "source": [
    "#####  &nbsp;&nbsp;&nbsp;&nbsp;&nbsp;&nbsp;&nbsp;&nbsp; Switch to bash kernel "
   ]
  },
  {
   "cell_type": "code",
   "execution_count": null,
   "id": "45",
   "metadata": {},
   "outputs": [],
   "source": [
    "cat /project/rkemberlab/scripts/run_prscs_eur.sh"
   ]
  },
  {
   "cell_type": "code",
   "execution_count": null,
   "id": "46",
   "metadata": {},
   "outputs": [],
   "source": [
    "sh /project/rkemberlab/scripts/run_prscs_eur.sh /project/rkemberlab/summary_stats/reformatted_sumstats/prscs_prscsx/cardio_eur_Nelson2017_reformatted_sumstats.txt 162973 /home/mlreed/PRSCalcs/EUR/Cardio/ Nelson2017EUR_Cardio  "
   ]
  },
  {
   "cell_type": "code",
   "execution_count": null,
   "id": "47",
   "metadata": {},
   "outputs": [],
   "source": [
    "cat /home/mlreed/PRSCalcs/EUR/Cardio/prscs_EUR_Nelson2017EUR_Cardio_pst_eff_a1_b0.5_phiauto_chr* > /home/mlreed/PRSCalcs/EUR/Cardio/prscs_EUR_Nelson2017EUR_Cardio_pst_eff_a1_b0.5_phiauto_chrALL.txt"
   ]
  },
  {
   "cell_type": "code",
   "execution_count": null,
   "id": "48",
   "metadata": {},
   "outputs": [],
   "source": [
    "module load plink-1.90b3b\n",
    "plink \\\n",
    "--bfile /project/rkemberlab/datasets/PMBB/Genotype/PMBB-Release-2020-2.0/PMBB-Release-2020-2.0_genetic_imputed-topmed-r2_chrAll_1kg_hm3_eur_newID_EUR \\\n",
    "--score /home/mlreed/PRSCalcs/EUR/Cardio/prscs_EUR_Nelson2017EUR_Cardio_pst_eff_a1_b0.5_phiauto_chrALL.txt 2 4 6 \\\n",
    "--out PRS_prscs_EUR_Cardio"
   ]
  },
  {
   "cell_type": "markdown",
   "id": "49",
   "metadata": {},
   "source": [
    "## Lipids Phenotypes - EUR Only "
   ]
  },
  {
   "cell_type": "markdown",
   "id": "50",
   "metadata": {},
   "source": [
    "#####  &nbsp;&nbsp;&nbsp;&nbsp;&nbsp;&nbsp;&nbsp;&nbsp; Switch to R kernel "
   ]
  },
  {
   "cell_type": "markdown",
   "id": "51",
   "metadata": {},
   "source": [
    "#### *HDL*"
   ]
  },
  {
   "cell_type": "code",
   "execution_count": null,
   "id": "52",
   "metadata": {},
   "outputs": [],
   "source": [
    "library(data.table)\n",
    "HDL_data <- fread('/project/rkemberlab/summary_stats/EUR/Willer_2013_HDL_EUR_GLGC.txt')\n",
    "LDL_data <- fread('/project/rkemberlab/summary_stats/EUR/Willer_2013_LDL_EUR_GLGC.txt')\n",
    "TgData <- fread('/project/rkemberlab/summary_stats/EUR/Willer_2013_TG_EUR_GLGC.txt')\n",
    "TcData <- fread('/project/rkemberlab/summary_stats/EUR/Willer_2013_TC_EUR_GLGC.txt')"
   ]
  },
  {
   "cell_type": "code",
   "execution_count": null,
   "id": "53",
   "metadata": {},
   "outputs": [],
   "source": [
    "head(HDL_data)"
   ]
  },
  {
   "cell_type": "code",
   "execution_count": null,
   "id": "54",
   "metadata": {},
   "outputs": [],
   "source": [
    "HDLDf <- HDL_data[,c('rsid','A1','A2','beta','P-value')] #ouput file names\n",
    "names(HDLDf) <- c('SNP','A1','A2','BETA','P')\n",
    "# Upper the Allele\n",
    "HDLDf$A1 <- toupper(HDLDf$A1)\n",
    "HDLDf$A2 <- toupper(HDLDf$A2)\n",
    "fwrite(HDLDf,'/project/rkemberlab/summary_stats/reformatted_sumstats/prscs_prscsx/hdl_eur_Willer2013_reformatted_sumstats.txt',row.names = F,col.names = T,sep = '\\t')\n",
    "head(HDLDf)"
   ]
  },
  {
   "cell_type": "code",
   "execution_count": null,
   "id": "55",
   "metadata": {},
   "outputs": [],
   "source": [
    "N <- HDL_data$N\n",
    "N <- as.numeric(N)\n",
    "N <- na.omit(N)\n",
    "max(N)"
   ]
  },
  {
   "cell_type": "markdown",
   "id": "56",
   "metadata": {},
   "source": [
    "#####  &nbsp;&nbsp;&nbsp;&nbsp;&nbsp;&nbsp;&nbsp;&nbsp; Switch to bash kernel "
   ]
  },
  {
   "cell_type": "code",
   "execution_count": null,
   "id": "57",
   "metadata": {},
   "outputs": [],
   "source": [
    "cat /project/rkemberlab/scripts/run_prscs_eur.sh"
   ]
  },
  {
   "cell_type": "code",
   "execution_count": null,
   "id": "58",
   "metadata": {},
   "outputs": [],
   "source": [
    "sh /project/rkemberlab/scripts/run_prscs_eur.sh /project/rkemberlab/summary_stats/reformatted_sumstats/prscs_prscsx/hdl_eur_Willer2013_reformatted_sumstats.txt 187167 /home/mlreed/PRSCalcs/EUR/HDL/ Willer2013EUR_HDL  "
   ]
  },
  {
   "cell_type": "code",
   "execution_count": null,
   "id": "59",
   "metadata": {},
   "outputs": [],
   "source": [
    "cat /home/mlreed/PRSCalcs/EUR/HDL/prscs_EUR_Willer2013EUR_HDL_pst_eff_a1_b0.5_phiauto_chr* > /home/mlreed/PRSCalcs/EUR/HDL/prscs_EUR_Willer2013EUR_HDL_pst_eff_a1_b0.5_phiauto_chrALL.txt"
   ]
  },
  {
   "cell_type": "code",
   "execution_count": null,
   "id": "60",
   "metadata": {},
   "outputs": [],
   "source": [
    "module load plink-1.90b3b\n",
    "plink \\\n",
    "--bfile /project/rkemberlab/datasets/PMBB/Genotype/PMBB-Release-2020-2.0/PMBB-Release-2020-2.0_genetic_imputed-topmed-r2_chrAll_1kg_hm3_eur_newID_EUR \\\n",
    "--score /home/mlreed/PRSCalcs/EUR/HDL/prscs_EUR_Willer2013EUR_HDL_pst_eff_a1_b0.5_phiauto_chrALL.txt 2 4 6 \\\n",
    "--out PRS_prscs_EUR_HDL"
   ]
  },
  {
   "cell_type": "markdown",
   "id": "61",
   "metadata": {},
   "source": [
    "#### *LDL*"
   ]
  },
  {
   "cell_type": "code",
   "execution_count": null,
   "id": "62",
   "metadata": {},
   "outputs": [],
   "source": [
    "library(data.table)\n",
    "head(LDL_data)\n",
    "LDLDf <- LDL_data[,c('rsid','A1','A2','beta','P-value')] #ouput file names\n",
    "names(LDLDf) <- c('SNP','A1','A2','BETA','P')\n",
    "# Upper the Allele\n",
    "LDLDf$A1 <- toupper(LDLDf$A1)\n",
    "LDLDf$A2 <- toupper(LDLDf$A2)\n",
    "fwrite(LDLDf,'/project/rkemberlab/summary_stats/reformatted_sumstats/prscs_prscsx/ldl_eur_Willer2013_reformatted_sumstats.txt',row.names = F,col.names = T,sep = '\\t')\n",
    "head(LDLDf)"
   ]
  },
  {
   "cell_type": "code",
   "execution_count": null,
   "id": "63",
   "metadata": {},
   "outputs": [],
   "source": [
    "N <- LDL_data$N\n",
    "N <- as.numeric(N)\n",
    "N <- na.omit(N)\n",
    "max(N)"
   ]
  },
  {
   "cell_type": "markdown",
   "id": "64",
   "metadata": {},
   "source": [
    "#####  &nbsp;&nbsp;&nbsp;&nbsp;&nbsp;&nbsp;&nbsp;&nbsp; Switch to bash kernel "
   ]
  },
  {
   "cell_type": "code",
   "execution_count": null,
   "id": "65",
   "metadata": {},
   "outputs": [],
   "source": [
    "sh /project/rkemberlab/scripts/run_prscs_eur.sh /project/rkemberlab/summary_stats/reformatted_sumstats/prscs_prscsx/ldl_eur_Willer2013_reformatted_sumstats.txt 173082 /home/mlreed/PRSCalcs/EUR/LDL/ Willer2013EUR_LDL  "
   ]
  },
  {
   "cell_type": "code",
   "execution_count": null,
   "id": "66",
   "metadata": {},
   "outputs": [],
   "source": [
    "cat /home/mlreed/PRSCalcs/EUR/LDL/prscs_EUR_Willer2013EUR_LDL_pst_eff_a1_b0.5_phiauto_chr* > /home/mlreed/PRSCalcs/EUR/LDL/prscs_EUR_Willer2013EUR_LDL_pst_eff_a1_b0.5_phiauto_chrALL.txt"
   ]
  },
  {
   "cell_type": "code",
   "execution_count": null,
   "id": "67",
   "metadata": {},
   "outputs": [],
   "source": [
    "module load plink-1.90b3b\n",
    "plink \\\n",
    "--bfile /project/rkemberlab/datasets/PMBB/Genotype/PMBB-Release-2020-2.0/PMBB-Release-2020-2.0_genetic_imputed-topmed-r2_chrAll_1kg_hm3_eur_newID_EUR \\\n",
    "--score /home/mlreed/PRSCalcs/EUR/LDL/prscs_EUR_Willer2013EUR_LDL_pst_eff_a1_b0.5_phiauto_chrALL.txt 2 4 6 \\\n",
    "--out PRS_prscs_EUR_LDL"
   ]
  },
  {
   "cell_type": "markdown",
   "id": "68",
   "metadata": {},
   "source": [
    "#### *Total Tryglicerides*"
   ]
  },
  {
   "cell_type": "code",
   "execution_count": null,
   "id": "69",
   "metadata": {},
   "outputs": [],
   "source": [
    "tgDf <- TgData[,c('rsid','A1','A2','beta','P-value')] #ouput file names\n",
    "names(tgDf) <- c('SNP','A1','A2','BETA','P')\n",
    "# Upper the Allele\n",
    "tgDf$A1 <- toupper(tgDf$A1)\n",
    "tgDf$A2 <- toupper(tgDf$A2)\n",
    "fwrite(tgDf,'/project/rkemberlab/summary_stats/reformatted_sumstats/prscs_prscsx/tg_eur_Willer2013_reformatted_sumstats.txt',row.names = F,col.names = T,sep = '\\t')\n",
    "head(TgData)\n",
    "head(tgDf)"
   ]
  },
  {
   "cell_type": "code",
   "execution_count": null,
   "id": "70",
   "metadata": {},
   "outputs": [],
   "source": [
    "N <- TgData$N\n",
    "N <- as.numeric(N)\n",
    "N <- na.omit(N)\n",
    "max(N)"
   ]
  },
  {
   "cell_type": "markdown",
   "id": "71",
   "metadata": {},
   "source": [
    "#####  &nbsp;&nbsp;&nbsp;&nbsp;&nbsp;&nbsp;&nbsp;&nbsp; Switch to bash kernel "
   ]
  },
  {
   "cell_type": "code",
   "execution_count": null,
   "id": "72",
   "metadata": {},
   "outputs": [],
   "source": [
    "sh /project/rkemberlab/scripts/run_prscs_eur.sh /project/rkemberlab/summary_stats/reformatted_sumstats/prscs_prscsx/tg_eur_Willer2013_reformatted_sumstats.txt 177861 /home/mlreed/PRSCalcs/EUR/TriGlTotal/ Willer2013EUR_Tg  "
   ]
  },
  {
   "cell_type": "code",
   "execution_count": null,
   "id": "73",
   "metadata": {},
   "outputs": [],
   "source": [
    "cat /home/mlreed/PRSCalcs/EUR/TriGlTotal/prscs_EUR_Willer2013EUR_Tg_pst_eff_a1_b0.5_phiauto_chr* > /home/mlreed/PRSCalcs/EUR/TriGlTotal/prscs_EUR_Willer2013EUR_Tg_pst_eff_a1_b0.5_phiauto_chrALL.txt"
   ]
  },
  {
   "cell_type": "code",
   "execution_count": null,
   "id": "74",
   "metadata": {},
   "outputs": [],
   "source": [
    "module load plink-1.90b3b\n",
    "plink \\\n",
    "--bfile /project/rkemberlab/datasets/PMBB/Genotype/PMBB-Release-2020-2.0/PMBB-Release-2020-2.0_genetic_imputed-topmed-r2_chrAll_1kg_hm3_eur_newID_EUR \\\n",
    "--score /home/mlreed/PRSCalcs/EUR/TriGlTotal/prscs_EUR_Willer2013EUR_Tg_pst_eff_a1_b0.5_phiauto_chrALL.txt 2 4 6 \\\n",
    "--out PRS_prscs_EUR_tg"
   ]
  },
  {
   "cell_type": "markdown",
   "id": "75",
   "metadata": {},
   "source": [
    "#### *Total Cholesterol*"
   ]
  },
  {
   "cell_type": "code",
   "execution_count": null,
   "id": "76",
   "metadata": {},
   "outputs": [],
   "source": [
    "tcDf <- TcData[,c('rsid','A1','A2','beta','P-value')] #ouput file names\n",
    "names(tcDf) <- c('SNP','A1','A2','BETA','P')\n",
    "# Upper the Allele\n",
    "tcDf$A1 <- toupper(tcDf$A1)\n",
    "tcDf$A2 <- toupper(tcDf$A2)\n",
    "fwrite(tcDf,'/project/rkemberlab/summary_stats/reformatted_sumstats/prscs_prscsx/tc_eur_Willer2013_reformatted_sumstats.txt',row.names = F,col.names = T,sep = '\\t')\n",
    "head(TcData)\n",
    "head(tcDf)"
   ]
  },
  {
   "cell_type": "code",
   "execution_count": null,
   "id": "77",
   "metadata": {},
   "outputs": [],
   "source": [
    "N <- TcData$N\n",
    "N <- as.numeric(N)\n",
    "N <- na.omit(N)\n",
    "max(N)"
   ]
  },
  {
   "cell_type": "markdown",
   "id": "78",
   "metadata": {},
   "source": [
    "#####  &nbsp;&nbsp;&nbsp;&nbsp;&nbsp;&nbsp;&nbsp;&nbsp; Switch to bash kernel "
   ]
  },
  {
   "cell_type": "code",
   "execution_count": null,
   "id": "79",
   "metadata": {},
   "outputs": [],
   "source": [
    "sh /project/rkemberlab/scripts/run_prscs_eur.sh /project/rkemberlab/summary_stats/reformatted_sumstats/prscs_prscsx/tc_eur_Willer2013_reformatted_sumstats.txt 187365 /home/mlreed/PRSCalcs/EUR/CholTot/ Willer2013EUR_Tc  "
   ]
  },
  {
   "cell_type": "code",
   "execution_count": null,
   "id": "80",
   "metadata": {},
   "outputs": [],
   "source": [
    "cat /home/mlreed/PRSCalcs/EUR/CholTot/prscs_EUR_Willer2013EUR_Tc_pst_eff_a1_b0.5_phiauto_chr* > /home/mlreed/PRSCalcs/EUR/CholTot/prscs_EUR_Willer2013EUR_Tc_pst_eff_a1_b0.5_phiauto_chrALL.txt"
   ]
  },
  {
   "cell_type": "code",
   "execution_count": null,
   "id": "81",
   "metadata": {},
   "outputs": [],
   "source": [
    "module load plink-1.90b3b\n",
    "plink \\\n",
    "--bfile /project/rkemberlab/datasets/PMBB/Genotype/PMBB-Release-2020-2.0/PMBB-Release-2020-2.0_genetic_imputed-topmed-r2_chrAll_1kg_hm3_eur_newID_EUR \\\n",
    "--score /home/mlreed/PRSCalcs/EUR/CholTot/prscs_EUR_Willer2013EUR_Tc_pst_eff_a1_b0.5_phiauto_chrALL.txt 2 4 6 \\\n",
    "--out PRS_prscs_EUR_tc"
   ]
  },
  {
   "cell_type": "markdown",
   "id": "82",
   "metadata": {},
   "source": [
    "# Linear Regression"
   ]
  },
  {
   "cell_type": "markdown",
   "id": "83",
   "metadata": {},
   "source": [
    "#####  &nbsp;&nbsp;&nbsp;&nbsp;&nbsp;&nbsp;&nbsp;&nbsp; Switch to R kernel "
   ]
  },
  {
   "cell_type": "markdown",
   "id": "84",
   "metadata": {},
   "source": [
    "####  T2D EUR"
   ]
  },
  {
   "cell_type": "code",
   "execution_count": null,
   "id": "85",
   "metadata": {},
   "outputs": [],
   "source": [
    "library(data.table)\n",
    "library(dplyr)"
   ]
  },
  {
   "cell_type": "code",
   "execution_count": null,
   "id": "86",
   "metadata": {},
   "outputs": [],
   "source": [
    "pheno <- read.table(\"/project/rkemberlab/datasets/PMBB/PMBB_Diagnosis_Deidentified_072020_Phecodes.txt\", header = TRUE)\n",
    "head(pheno)\n",
    "T2DPhecodeDf <- pheno[, c(\"id\", \"X250.2\")]\n",
    "head(T2DPhecodeDf)\n",
    "colnames(T2DPhecodeDf) = c(\"PMBB_ID\", \"pheno\")\n",
    "head(T2DPhecodeDf)"
   ]
  },
  {
   "cell_type": "code",
   "execution_count": null,
   "id": "87",
   "metadata": {},
   "outputs": [],
   "source": [
    "cov <- read.table(\"/project/rkemberlab/datasets/PMBB/PMBB_eur_covariates.txt\", header = TRUE, sep = '\\t')\n",
    "head(cov)\n",
    "cov_age_pcs<- merge(T2DPhecodeDf, cov, by = \"PMBB_ID\")\n",
    "head(cov_age_pcs)"
   ]
  },
  {
   "cell_type": "code",
   "execution_count": null,
   "id": "88",
   "metadata": {},
   "outputs": [],
   "source": [
    "T2DEUR_prs <- read.table(\"/home/mlreed/PRSCalcs/EUR/T2D/PRS_prscs_EUR_T2D.profile\", header = TRUE)\n",
    "head(T2DEUR_prs)\n",
    "T2DEUR_prs <- T2DEUR_prs[,c(2,6)]\n",
    "colnames(T2DEUR_prs) <- c(\"PMBB_ID\", \"PRS\")\n",
    "T2DEUR_prs <- T2DEUR_prs %>% mutate(PRS_scaled = scale(PRS))\n",
    "head(T2DEUR_prs)\n",
    "T2D_pheno_cov_prs <- merge(cov_age_pcs, T2DEUR_prs, by = \"PMBB_ID\")\n",
    "head(T2D_pheno_cov_prs)"
   ]
  },
  {
   "cell_type": "code",
   "execution_count": null,
   "id": "89",
   "metadata": {},
   "outputs": [],
   "source": [
    "T2DMOD_EUR <- glm(formula = as.factor(T2D_pheno_cov_prs$pheno) ~ T2D_pheno_cov_prs$PRS_scaled + \n",
    "    T2D_pheno_cov_prs$age + T2D_pheno_cov_prs$Gen_Sex + T2D_pheno_cov_prs$EUR_PC1 + \n",
    "    T2D_pheno_cov_prs$EUR_PC2 + T2D_pheno_cov_prs$EUR_PC3 + T2D_pheno_cov_prs$EUR_PC4 + \n",
    "    T2D_pheno_cov_prs$EUR_PC5 + T2D_pheno_cov_prs$EUR_PC6 + T2D_pheno_cov_prs$EUR_PC7 + \n",
    "    T2D_pheno_cov_prs$EUR_PC8 + T2D_pheno_cov_prs$EUR_PC9 + T2D_pheno_cov_prs$EUR_PC10, \n",
    "    family = \"binomial\")"
   ]
  },
  {
   "cell_type": "code",
   "execution_count": null,
   "id": "90",
   "metadata": {},
   "outputs": [],
   "source": [
    "#view results summary\n",
    "summary(T2DMOD_EUR)\n",
    "\n",
    "#covert beta value ('Estimate') into odds ratio since our outcome is binary\n",
    "paste(\"OR:\",exp(summary(T2DMOD_EUR)$coefficients[2]))\n",
    "\n",
    "#create upper and lower beta confidence intervals\n",
    "paste(\"Lower CI:\",exp((summary(T2DMOD_EUR)$coefficients[2])-1.96*summary(T2DMOD_EUR)$coefficients[2,2]))\n",
    "paste(\"Upper CI:\" ,exp((summary(T2DMOD_EUR)$coefficients[2])+1.96*summary(T2DMOD_EUR)$coefficients[2,2]))\n",
    "\n",
    "#generate p value\n",
    "paste(\"P-value:\" ,summary(T2DMOD_EUR)$coefficients[2,4])"
   ]
  },
  {
   "cell_type": "markdown",
   "id": "91",
   "metadata": {},
   "source": [
    "#### T2D AFR"
   ]
  },
  {
   "cell_type": "code",
   "execution_count": null,
   "id": "92",
   "metadata": {},
   "outputs": [],
   "source": [
    "covafr <- read.table(\"/project/rkemberlab/datasets/PMBB/PMBB_afr_covariates.txt\", header = TRUE, sep = '\\t')\n",
    "head(covafr)\n",
    "covafr_age_pcs<- merge(T2DPhecodeDf, covafr, by = \"PMBB_ID\")\n",
    "head(covafr_age_pcs)"
   ]
  },
  {
   "cell_type": "code",
   "execution_count": null,
   "id": "93",
   "metadata": {},
   "outputs": [],
   "source": [
    "T2DAFR_prs <- read.table(\"/home/mlreed/PRSCalcs/AFR/T2D/PRS_prscs_AFR_T2D.profile\", header = TRUE)\n",
    "head(T2DAFR_prs)\n",
    "T2DAFR_prs <- T2DAFR_prs[,c(2,6)]\n",
    "colnames(T2DAFR_prs) <- c(\"PMBB_ID\", \"PRS\")\n",
    "T2DAFR_prs <- T2DAFR_prs %>% mutate(PRS_scaled = scale(PRS))\n",
    "head(T2DAFR_prs)\n",
    "T2D_pheno_covafr_prs <- merge(covafr_age_pcs, T2DAFR_prs, by = \"PMBB_ID\")\n",
    "head(T2D_pheno_covafr_prs)"
   ]
  },
  {
   "cell_type": "code",
   "execution_count": null,
   "id": "94",
   "metadata": {},
   "outputs": [],
   "source": [
    "T2DMOD_AFR <- glm(formula = as.factor(T2D_pheno_covafr_prs$pheno) ~ T2D_pheno_covafr_prs$PRS_scaled + \n",
    "    T2D_pheno_covafr_prs$age + T2D_pheno_covafr_prs$Gen_Sex + T2D_pheno_covafr_prs$AFR_PC1 + \n",
    "    T2D_pheno_covafr_prs$AFR_PC2 + T2D_pheno_covafr_prs$AFR_PC3 + T2D_pheno_covafr_prs$AFR_PC4 + \n",
    "    T2D_pheno_covafr_prs$AFR_PC5 + T2D_pheno_covafr_prs$AFR_PC6 + T2D_pheno_covafr_prs$AFR_PC7 + \n",
    "    T2D_pheno_covafr_prs$AFR_PC8 + T2D_pheno_covafr_prs$AFR_PC9 + T2D_pheno_covafr_prs$AFR_PC10, \n",
    "    family = \"binomial\")"
   ]
  },
  {
   "cell_type": "code",
   "execution_count": null,
   "id": "95",
   "metadata": {},
   "outputs": [],
   "source": [
    "#view results summary\n",
    "summary(T2DMOD_AFR)\n",
    "\n",
    "#covert beta value ('Estimate') into odds ratio since our outcome is binary\n",
    "paste(\"OR:\",exp(summary(T2DMOD_AFR)$coefficients[2]))\n",
    "\n",
    "#create upper and lower beta confidence intervals\n",
    "paste(\"Lower CI:\",exp((summary(T2DMOD_AFR)$coefficients[2])-1.96*summary(T2DMOD_AFR)$coefficients[2,2]))\n",
    "paste(\"Upper CI:\" ,exp((summary(T2DMOD_AFR)$coefficients[2])+1.96*summary(T2DMOD_AFR)$coefficients[2,2]))\n",
    "\n",
    "#generate p value\n",
    "paste(\"P-value:\" ,summary(T2DMOD_AFR)$coefficients[2,4])"
   ]
  },
  {
   "cell_type": "markdown",
   "id": "96",
   "metadata": {},
   "source": [
    "####  HDL EUR"
   ]
  },
  {
   "cell_type": "code",
   "execution_count": null,
   "id": "97",
   "metadata": {},
   "outputs": [],
   "source": [
    "pheno <- read.table(\"/project/rkemberlab/datasets/PMBB/PMBB_Diagnosis_Deidentified_072020_Phecodes.txt\", header = TRUE)\n",
    "HDLPhecodeDf <- pheno[, c(\"id\", \"X272.1\")]\n",
    "colnames(HDLPhecodeDf) = c(\"PMBB_ID\", \"pheno\")\n",
    "head(HDLPhecodeDf)"
   ]
  },
  {
   "cell_type": "code",
   "execution_count": null,
   "id": "98",
   "metadata": {},
   "outputs": [],
   "source": [
    "cov <- read.table(\"/project/rkemberlab/datasets/PMBB/PMBB_eur_covariates.txt\", header = TRUE, sep = '\\t')\n",
    "head(cov)\n",
    "cov_age_pcs<- merge(HDLPhecodeDf, cov, by = \"PMBB_ID\")\n",
    "head(cov_age_pcs)"
   ]
  },
  {
   "cell_type": "code",
   "execution_count": null,
   "id": "99",
   "metadata": {},
   "outputs": [],
   "source": [
    "HDLEUR_prs <- read.table(\"/home/mlreed/PRSCalcs/EUR/HDL/PRS_prscs_EUR_HDL.profile\", header = TRUE)\n",
    "head(HDLEUR_prs)\n",
    "HDLEUR_prs <- HDLEUR_prs[,c(2,6)]\n",
    "colnames(HDLEUR_prs) <- c(\"PMBB_ID\", \"PRS\")\n",
    "HDLEUR_prs <- HDLEUR_prs %>% mutate(PRS_scaled = scale(PRS))\n",
    "head(HDLEUR_prs)\n",
    "HDL_pheno_cov_prs <- merge(cov_age_pcs, HDLEUR_prs, by = \"PMBB_ID\")\n",
    "head(HDL_pheno_cov_prs)"
   ]
  },
  {
   "cell_type": "code",
   "execution_count": null,
   "id": "100",
   "metadata": {},
   "outputs": [],
   "source": [
    "HDLMOD_EUR <- glm(formula = as.factor(HDL_pheno_cov_prs$pheno) ~ HDL_pheno_cov_prs$PRS_scaled + \n",
    "    HDL_pheno_cov_prs$age + HDL_pheno_cov_prs$Gen_Sex + HDL_pheno_cov_prs$EUR_PC1 + \n",
    "    HDL_pheno_cov_prs$EUR_PC2 + HDL_pheno_cov_prs$EUR_PC3 + HDL_pheno_cov_prs$EUR_PC4 + \n",
    "    HDL_pheno_cov_prs$EUR_PC5 + HDL_pheno_cov_prs$EUR_PC6 + HDL_pheno_cov_prs$EUR_PC7 + \n",
    "   HDL_pheno_cov_prs$EUR_PC8 + HDL_pheno_cov_prs$EUR_PC9 + HDL_pheno_cov_prs$EUR_PC10, \n",
    "    family = \"binomial\")"
   ]
  },
  {
   "cell_type": "code",
   "execution_count": null,
   "id": "101",
   "metadata": {},
   "outputs": [],
   "source": [
    "#view results summary\n",
    "summary(HDLMOD_EUR)\n",
    "\n",
    "#covert beta value ('Estimate') into odds ratio since our outcome is binary\n",
    "paste(\"OR:\",exp(summary(HDLMOD_EUR)$coefficients[2]))\n",
    "\n",
    "#create upper and lower beta confidence intervals\n",
    "paste(\"Lower CI:\",exp((summary(HDLMOD_EUR)$coefficients[2])-1.96*summary(HDLMOD_EUR)$coefficients[2,2]))\n",
    "paste(\"Upper CI:\" ,exp((summary(HDLMOD_EUR)$coefficients[2])+1.96*summary(HDLMOD_EUR)$coefficients[2,2]))\n",
    "\n",
    "#generate p value\n",
    "paste(\"P-value:\" ,summary(HDLMOD_EUR)$coefficients[2,4])"
   ]
  },
  {
   "cell_type": "markdown",
   "id": "102",
   "metadata": {},
   "source": [
    "#### LDL EUR"
   ]
  },
  {
   "cell_type": "code",
   "execution_count": null,
   "id": "103",
   "metadata": {},
   "outputs": [],
   "source": [
    "#pheno <- read.table(\"/project/rkemberlab/datasets/PMBB/PMBB_Diagnosis_Deidentified_072020_Phecodes.txt\", header = TRUE)\n",
    "LDLPhecodeDf <- pheno[, c(\"id\", \"X272.11\")]\n",
    "colnames(LDLPhecodeDf) = c(\"PMBB_ID\", \"pheno\")\n",
    "head(LDLPhecodeDf)"
   ]
  },
  {
   "cell_type": "code",
   "execution_count": null,
   "id": "104",
   "metadata": {},
   "outputs": [],
   "source": [
    "cov <- read.table(\"/project/rkemberlab/datasets/PMBB/PMBB_eur_covariates.txt\", header = TRUE, sep = '\\t')\n",
    "head(cov)\n",
    "cov_age_pcs<- merge(LDLPhecodeDf, cov, by = \"PMBB_ID\")\n",
    "head(cov_age_pcs)"
   ]
  },
  {
   "cell_type": "code",
   "execution_count": null,
   "id": "105",
   "metadata": {},
   "outputs": [],
   "source": [
    "LDLEUR_prs <- read.table(\"/home/mlreed/PRSCalcs/EUR/LDL/PRS_prscs_EUR_LDL.profile\", header = TRUE)\n",
    "head(LDLEUR_prs)\n",
    "LDLEUR_prs <- LDLEUR_prs[,c(2,6)]\n",
    "colnames(LDLEUR_prs) <- c(\"PMBB_ID\", \"PRS\")\n",
    "LDLEUR_prs <- LDLEUR_prs %>% mutate(PRS_scaled = scale(PRS))\n",
    "head(LDLEUR_prs)\n",
    "LDL_pheno_cov_prs <- merge(cov_age_pcs, LDLEUR_prs, by = \"PMBB_ID\")\n",
    "head(LDL_pheno_cov_prs)"
   ]
  },
  {
   "cell_type": "code",
   "execution_count": null,
   "id": "106",
   "metadata": {},
   "outputs": [],
   "source": [
    "LDLMOD_EUR <- glm(formula = as.factor(LDL_pheno_cov_prs$pheno) ~ LDL_pheno_cov_prs$PRS_scaled + \n",
    "    LDL_pheno_cov_prs$age + LDL_pheno_cov_prs$Gen_Sex + HDL_pheno_cov_prs$EUR_PC1 + \n",
    "    LDL_pheno_cov_prs$EUR_PC2 + LDL_pheno_cov_prs$EUR_PC3 + LDL_pheno_cov_prs$EUR_PC4 + \n",
    "    LDL_pheno_cov_prs$EUR_PC5 + LDL_pheno_cov_prs$EUR_PC6 + LDL_pheno_cov_prs$EUR_PC7 + \n",
    "    LDL_pheno_cov_prs$EUR_PC8 + LDL_pheno_cov_prs$EUR_PC9 + LDL_pheno_cov_prs$EUR_PC10, \n",
    "    family = \"binomial\")"
   ]
  },
  {
   "cell_type": "code",
   "execution_count": null,
   "id": "107",
   "metadata": {},
   "outputs": [],
   "source": [
    "#view results summary\n",
    "summary(LDLMOD_EUR)\n",
    "\n",
    "#covert beta value ('Estimate') into odds ratio since our outcome is binary\n",
    "paste(\"OR:\",exp(summary(LDLMOD_EUR)$coefficients[2]))\n",
    "\n",
    "#create upper and lower beta confidence intervals\n",
    "paste(\"Lower CI:\",exp((summary(LDLMOD_EUR)$coefficients[2])-1.96*summary(LDLMOD_EUR)$coefficients[2,2]))\n",
    "paste(\"Upper CI:\" ,exp((summary(LDLMOD_EUR)$coefficients[2])+1.96*summary(LDLMOD_EUR)$coefficients[2,2]))\n",
    "\n",
    "#generate p value\n",
    "paste(\"P-value:\" ,summary(LDLMOD_EUR)$coefficients[2,4])"
   ]
  },
  {
   "cell_type": "markdown",
   "id": "108",
   "metadata": {},
   "source": [
    "#### Tc EUR"
   ]
  },
  {
   "cell_type": "code",
   "execution_count": null,
   "id": "109",
   "metadata": {},
   "outputs": [],
   "source": [
    "#pheno <- read.table(\"/project/rkemberlab/datasets/PMBB/PMBB_Diagnosis_Deidentified_072020_Phecodes.txt\", header = TRUE)\n",
    "TcPhecodeDf <- pheno[, c(\"id\", \"X272.1\")]\n",
    "colnames(TcPhecodeDf) = c(\"PMBB_ID\", \"pheno\")\n",
    "head(TcPhecodeDf)\n",
    "\n",
    "cov <- read.table(\"/project/rkemberlab/datasets/PMBB/PMBB_eur_covariates.txt\", header = TRUE, sep = '\\t')\n",
    "head(cov)\n",
    "cov_age_pcs<- merge(TcPhecodeDf, cov, by = \"PMBB_ID\")\n",
    "head(cov_age_pcs)\n",
    "\n",
    "TcEUR_prs <- read.table(\"/home/mlreed/PRSCalcs/EUR/CholTot/PRS_prscs_EUR_tc.profile\", header = TRUE)\n",
    "head(TcEUR_prs)\n",
    "TcEUR_prs <- TcEUR_prs[,c(2,6)]\n",
    "colnames(TcEUR_prs) <- c(\"PMBB_ID\", \"PRS\")\n",
    "TcEUR_prs <- TcEUR_prs %>% mutate(PRS_scaled = scale(PRS))\n",
    "head(TcEUR_prs)\n",
    "Tc_pheno_cov_prs <- merge(cov_age_pcs, TcEUR_prs, by = \"PMBB_ID\")\n",
    "head(Tc_pheno_cov_prs)\n"
   ]
  },
  {
   "cell_type": "code",
   "execution_count": null,
   "id": "110",
   "metadata": {},
   "outputs": [],
   "source": [
    "TcMOD_EUR <- glm(formula = as.factor(Tc_pheno_cov_prs$pheno) ~ Tc_pheno_cov_prs$PRS_scaled + \n",
    "    Tc_pheno_cov_prs$age + Tc_pheno_cov_prs$Gen_Sex + HDL_pheno_cov_prs$EUR_PC1 + \n",
    "    Tc_pheno_cov_prs$EUR_PC2 + Tc_pheno_cov_prs$EUR_PC3 + Tc_pheno_cov_prs$EUR_PC4 + \n",
    "    Tc_pheno_cov_prs$EUR_PC5 + Tc_pheno_cov_prs$EUR_PC6 + Tc_pheno_cov_prs$EUR_PC7 + \n",
    "    Tc_pheno_cov_prs$EUR_PC8 + Tc_pheno_cov_prs$EUR_PC9 + Tc_pheno_cov_prs$EUR_PC10, \n",
    "    family = \"binomial\")"
   ]
  },
  {
   "cell_type": "code",
   "execution_count": null,
   "id": "111",
   "metadata": {},
   "outputs": [],
   "source": [
    "#view results summary\n",
    "summary(TcMOD_EUR)\n",
    "\n",
    "#covert beta value ('Estimate') into odds ratio since our outcome is binary\n",
    "paste(\"OR:\",exp(summary(TcMOD_EUR)$coefficients[2]))\n",
    "\n",
    "#create upper and lower beta confidence intervals\n",
    "paste(\"Lower CI:\",exp((summary(TcMOD_EUR)$coefficients[2])-1.96*summary(TcMOD_EUR)$coefficients[2,2]))\n",
    "paste(\"Upper CI:\" ,exp((summary(TcMOD_EUR)$coefficients[2])+1.96*summary(TcMOD_EUR)$coefficients[2,2]))\n",
    "\n",
    "#generate p value\n",
    "paste(\"P-value:\" ,summary(TcMOD_EUR)$coefficients[2,4])"
   ]
  },
  {
   "cell_type": "markdown",
   "id": "112",
   "metadata": {},
   "source": [
    "#### Tg EUR"
   ]
  },
  {
   "cell_type": "code",
   "execution_count": null,
   "id": "113",
   "metadata": {},
   "outputs": [],
   "source": [
    "#pheno <- read.table(\"/project/rkemberlab/datasets/PMBB/PMBB_Diagnosis_Deidentified_072020_Phecodes.txt\", header = TRUE)\n",
    "TgPhecodeDf <- pheno[, c(\"id\", \"X270.1\")]\n",
    "colnames(TgPhecodeDf) = c(\"PMBB_ID\", \"pheno\")\n",
    "head(TgPhecodeDf)\n",
    "\n",
    "cov <- read.table(\"/project/rkemberlab/datasets/PMBB/PMBB_eur_covariates.txt\", header = TRUE, sep = '\\t')\n",
    "head(cov)\n",
    "cov_age_pcs<- merge(TgPhecodeDf, cov, by = \"PMBB_ID\")\n",
    "head(cov_age_pcs)\n",
    "\n",
    "TgEUR_prs <- read.table(\"/home/mlreed/PRSCalcs/EUR/TriGlTotal/PRS_prscs_EUR_tg.profile\", header = TRUE)\n",
    "head(TgEUR_prs)\n",
    "TgEUR_prs <- TgEUR_prs[,c(2,6)]\n",
    "colnames(TgEUR_prs) <- c(\"PMBB_ID\", \"PRS\")\n",
    "TgEUR_prs <- TgEUR_prs %>% mutate(PRS_scaled = scale(PRS))\n",
    "head(TgEUR_prs)\n",
    "Tg_pheno_cov_prs <- merge(cov_age_pcs, TgEUR_prs, by = \"PMBB_ID\")\n",
    "head(Tg_pheno_cov_prs)"
   ]
  },
  {
   "cell_type": "code",
   "execution_count": null,
   "id": "114",
   "metadata": {},
   "outputs": [],
   "source": [
    "TgMOD_EUR <- glm(formula = as.factor(Tg_pheno_cov_prs$pheno) ~ Tg_pheno_cov_prs$PRS_scaled + \n",
    "    Tg_pheno_cov_prs$age + Tg_pheno_cov_prs$Gen_Sex + HDL_pheno_cov_prs$EUR_PC1 + \n",
    "    Tg_pheno_cov_prs$EUR_PC2 + Tg_pheno_cov_prs$EUR_PC3 + Tg_pheno_cov_prs$EUR_PC4 + \n",
    "    Tg_pheno_cov_prs$EUR_PC5 + Tg_pheno_cov_prs$EUR_PC6 + Tg_pheno_cov_prs$EUR_PC7 + \n",
    "    Tg_pheno_cov_prs$EUR_PC8 + Tg_pheno_cov_prs$EUR_PC9 + Tg_pheno_cov_prs$EUR_PC10, \n",
    "    family = \"binomial\")"
   ]
  },
  {
   "cell_type": "code",
   "execution_count": null,
   "id": "115",
   "metadata": {},
   "outputs": [],
   "source": [
    "#view results summary\n",
    "summary(TgMOD_EUR)\n",
    "\n",
    "#covert beta value ('Estimate') into odds ratio since our outcome is binary\n",
    "paste(\"OR:\",exp(summary(TgMOD_EUR)$coefficients[2]))\n",
    "\n",
    "#create upper and lower beta confidence intervals\n",
    "paste(\"Lower CI:\",exp((summary(TgMOD_EUR)$coefficients[2])-1.96*summary(TgMOD_EUR)$coefficients[2,2]))\n",
    "paste(\"Upper CI:\" ,exp((summary(TgMOD_EUR)$coefficients[2])+1.96*summary(TgMOD_EUR)$coefficients[2,2]))\n",
    "\n",
    "#generate p value\n",
    "paste(\"P-value:\" ,summary(TgMOD_EUR)$coefficients[2,4])"
   ]
  },
  {
   "cell_type": "markdown",
   "id": "116",
   "metadata": {},
   "source": [
    "#### Cardio EUR"
   ]
  },
  {
   "cell_type": "code",
   "execution_count": null,
   "id": "117",
   "metadata": {},
   "outputs": [],
   "source": [
    "#pheno <- read.table(\"/project/rkemberlab/datasets/PMBB/PMBB_Diagnosis_Deidentified_072020_Phecodes.txt\", header = TRUE)\n",
    "CardioPhecodeDf <- pheno[, c(\"id\", \"X411.4\")]\n",
    "colnames(CardioPhecodeDf) = c(\"PMBB_ID\", \"pheno\")\n",
    "head(CardioPhecodeDf)\n",
    "\n",
    "cov <- read.table(\"/project/rkemberlab/datasets/PMBB/PMBB_eur_covariates.txt\", header = TRUE, sep = '\\t')\n",
    "head(cov)\n",
    "cov_age_pcs<- merge(CardioPhecodeDf, cov, by = \"PMBB_ID\")\n",
    "head(cov_age_pcs)\n",
    "\n",
    "CardioEUR_prs <- read.table(\"/home/mlreed/PRSCalcs/EUR/Cardio/PRS_prscs_EUR_Cardio.profile\", header = TRUE)\n",
    "head(CardioEUR_prs)\n",
    "CardioEUR_prs <- CardioEUR_prs[,c(2,6)]\n",
    "colnames(CardioEUR_prs) <- c(\"PMBB_ID\", \"PRS\")\n",
    "CardioEUR_prs <- CardioEUR_prs %>% mutate(PRS_scaled = scale(PRS))\n",
    "head(CardioEUR_prs)\n",
    "Cardio_pheno_cov_prs <- merge(cov_age_pcs, CardioEUR_prs, by = \"PMBB_ID\")\n",
    "head(Cardio_pheno_cov_prs)"
   ]
  },
  {
   "cell_type": "code",
   "execution_count": null,
   "id": "118",
   "metadata": {},
   "outputs": [],
   "source": [
    "CardioMOD_EUR <- glm(formula = as.factor(Cardio_pheno_cov_prs$pheno) ~ Cardio_pheno_cov_prs$PRS_scaled + \n",
    "    Cardio_pheno_cov_prs$age + Cardio_pheno_cov_prs$Gen_Sex + HDL_pheno_cov_prs$EUR_PC1 + \n",
    "    Cardio_pheno_cov_prs$EUR_PC2 + Cardio_pheno_cov_prs$EUR_PC3 + Cardio_pheno_cov_prs$EUR_PC4 + \n",
    "    Cardio_pheno_cov_prs$EUR_PC5 + Cardio_pheno_cov_prs$EUR_PC6 + Cardio_pheno_cov_prs$EUR_PC7 + \n",
    "    Cardio_pheno_cov_prs$EUR_PC8 + Cardio_pheno_cov_prs$EUR_PC9 + Cardio_pheno_cov_prs$EUR_PC10, \n",
    "    family = \"binomial\")"
   ]
  },
  {
   "cell_type": "code",
   "execution_count": null,
   "id": "119",
   "metadata": {},
   "outputs": [],
   "source": [
    "#view results summary\n",
    "summary(CardioMOD_EUR)\n",
    "\n",
    "#covert beta value ('Estimate') into odds ratio since our outcome is binary\n",
    "paste(\"OR:\",exp(summary(CardioMOD_EUR)$coefficients[2]))\n",
    "\n",
    "#create upper and lower beta confidence intervals\n",
    "paste(\"Lower CI:\",exp((summary(CardioMOD_EUR)$coefficients[2])-1.96*summary(CardioMOD_EUR)$coefficients[2,2]))\n",
    "paste(\"Upper CI:\" ,exp((summary(CardioMOD_EUR)$coefficients[2])+1.96*summary(CardioMOD_EUR)$coefficients[2,2]))\n",
    "\n",
    "#generate p value\n",
    "paste(\"P-value:\" ,summary(CardioMOD_EUR)$coefficients[2,4])"
   ]
  },
  {
   "cell_type": "code",
   "execution_count": null,
   "id": "120",
   "metadata": {},
   "outputs": [],
   "source": []
  }
 ],
 "metadata": {
  "kernelspec": {
   "display_name": "R",
   "language": "R",
   "name": "ir"
  },
  "language_info": {
   "codemirror_mode": "r",
   "file_extension": ".r",
   "mimetype": "text/x-r-source",
   "name": "R",
   "pygments_lexer": "r",
   "version": "4.0.2"
  }
 },
 "nbformat": 4,
 "nbformat_minor": 5
}
