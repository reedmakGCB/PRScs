{
 "cells": [
  {
   "cell_type": "markdown",
   "id": "0",
   "metadata": {},
   "source": [
    "## 1. GWAS sumstats prep"
   ]
  },
  {
   "cell_type": "markdown",
   "id": "1",
   "metadata": {
    "tags": []
   },
   "source": [
    "#### Extract and Rename columns "
   ]
  },
  {
   "cell_type": "markdown",
   "id": "2",
   "metadata": {},
   "source": [
    "#### Read in data"
   ]
  },
  {
   "cell_type": "code",
   "execution_count": null,
   "id": "3",
   "metadata": {},
   "outputs": [],
   "source": [
    "### Cardio Pheno Type ()\n",
    "#switch kernel to R\n",
    "#see PRS-CS github README for more info on how to format input files (https://github.com/getian107/PRScs)\n",
    "#according to the prscs github, the algorithim can use Z scores in the BETA column\n",
    "#transform.R\n",
    "library(data.table)\n",
    "cardioData <- fread('/project/rkemberlab/summary_stats/EUR/Nelson_2017_Cardio_EUR.txt')\n",
    "HDL_data <- fread('/project/rkemberlab/summary_stats/EUR/Willer_2013_HDL_EUR_GLGC.txt')\n",
    "LDL_data <- fread('/project/rkemberlab/summary_stats/EUR/Willer_2013_LDL_EUR_GLGC.txt')\n",
    "TgData <- fread('/project/rkemberlab/summary_stats/EUR/Willer_2013_TG_EUR_GLGC.txt')\n",
    "TcData <- fread('/project/rkemberlab/summary_stats/EUR/Willer_2013_TC_EUR_GLGC.txt')"
   ]
  },
  {
   "cell_type": "code",
   "execution_count": null,
   "id": "4",
   "metadata": {},
   "outputs": [],
   "source": [
    "nrow(cardioData)\n",
    "#head(cardioData)\n",
    "count_ID <- sum(cardioData$effect_allele %in% c(\"I\", \"D\"))\n",
    "#| cardioData$noneffect_allele %in% c(\"I\", \"D\"))\n",
    "count_ID\n",
    "(nrow(cardioData)) - count_ID\n",
    "#head(HDL_data)\n",
    "#head(LDL_data)\n",
    "#head(TgData)\n",
    "#head(TcData)"
   ]
  },
  {
   "cell_type": "code",
   "execution_count": null,
   "id": "5",
   "metadata": {},
   "outputs": [],
   "source": [
    "### Diabetes Pheno Type ()\n",
    "diabetesEURData <- fread('/project/rkemberlab/summary_stats/EUR/Suzuki_2024_T2D_EUR-v2.txt')\n",
    "\n",
    "library(data.table)\n",
    "      head(diabEUR_mergedRS)\n",
    "      #diabetesEURData <- fread('/project/rkemberlab/summary_stats/EUR/Suzuki_2024_T2D_EUR-v2.txt') #input file names\n",
    "      diabEURdf <- diabEUR_mergedRS[,c('SNP','EffectAllele','NonEffectAllele','Beta','Pval')] #ouput file names\n",
    "      names(diabEURdf) <- c('SNP','A1','A2','BETA','P')\n",
    "      # Upper the Allele\n",
    "      diabEURdf$A1 <- toupper(diabEURdf$A1)\n",
    "      diabEURdf$A2 <- toupper(diabEURdf$A2)\n",
    "      fwrite(diabEURdf,'/project/rkemberlab/summary_stats/reformatted_sumstats/prscs_prscsx/T2D_eur_Suzuki2024_reformatted_sumstats.txt',row.names = F,col.names = T,sep = '\\t')\n",
    "      head(diabEURdf)"
   ]
  },
  {
   "cell_type": "code",
   "execution_count": null,
   "id": "6",
   "metadata": {},
   "outputs": [],
   "source": [
    "### Diabetes Pheno Type ()\n",
    "diabetesEURData <- fread('/project/rkemberlab/summary_stats/EUR/Suzuki_2024_T2D_EUR-v2.txt')\n",
    "\n",
    "library(data.table)\n",
    "      head(diabEUR_mergedRS)\n",
    "      #diabetesEURData <- fread('/project/rkemberlab/summary_stats/EUR/Suzuki_2024_T2D_EUR-v2.txt') #input file names\n",
    "      diabEURdf <- diabEUR_mergedRS[,c('SNP','EffectAllele','NonEffectAllele','Beta','Pval')] #ouput file names\n",
    "      names(diabEURdf) <- c('SNP','A1','A2','BETA','P')\n",
    "      # Upper the Allele\n",
    "      diabEURdf$A1 <- toupper(diabEURdf$A1)\n",
    "      diabEURdf$A2 <- toupper(diabEURdf$A2)\n",
    "      fwrite(diabEURdf,'/project/rkemberlab/summary_stats/reformatted_sumstats/prscs_prscsx/T2D_eur_Suzuki2024_reformatted_sumstats.txt',row.names = F,col.names = T,sep = '\\t')\n",
    "      head(diabEURdf)"
   ]
  },
  {
   "cell_type": "code",
   "execution_count": null,
   "id": "7",
   "metadata": {},
   "outputs": [],
   "source": [
    "library(data.table)\n",
    "diabetesEURData <- fread('/project/rkemberlab/summary_stats/EUR/Suzuki_2024_T2D_EUR-v2.txt') #input file names\n",
    "snpinfo <- fread('/project/rkemberlab/tools/PRScs/PRScsScore/ldblk_1kg_eur/snpinfo_1kg_hm3')\n",
    "head(snpinfo)"
   ]
  },
  {
   "cell_type": "code",
   "execution_count": null,
   "id": "8",
   "metadata": {},
   "outputs": [],
   "source": [
    "diabEUR_mergedRS_1 <- merge(diabetesEURData, snpinfo, by.x = c('Chromsome', 'Position', 'EffectAllele', 'NonEffectAllele'), by.y = c('CHR', 'BP', 'A1', 'A2'))"
   ]
  },
  {
   "cell_type": "code",
   "execution_count": null,
   "id": "9",
   "metadata": {},
   "outputs": [],
   "source": [
    "diabEUR_mergedRS_2 <- merge(diabetesEURData, snpinfo, by.x = c('Chromsome', 'Position', 'EffectAllele', 'NonEffectAllele'), by.y = c('CHR', 'BP', 'A2', 'A1'))"
   ]
  },
  {
   "cell_type": "code",
   "execution_count": null,
   "id": "10",
   "metadata": {},
   "outputs": [],
   "source": [
    "head(diabetesEURData)\n",
    "head(diabEUR_mergedRS_1)"
   ]
  },
  {
   "cell_type": "code",
   "execution_count": null,
   "id": "11",
   "metadata": {},
   "outputs": [],
   "source": [
    "nrow(diabEUR_mergedRS_1)\n",
    "nrow(diabEUR_mergedRS_2)"
   ]
  },
  {
   "cell_type": "code",
   "execution_count": null,
   "id": "12",
   "metadata": {},
   "outputs": [],
   "source": [
    "diabEUR_mergedRS <- rbind(diabEUR_mergedRS_1, diabEUR_mergedRS_2)\n",
    "nrow(diabEUR_mergedRS)\n",
    "head(diabEUR_mergedRS)"
   ]
  },
  {
   "cell_type": "code",
   "execution_count": null,
   "id": "13",
   "metadata": {},
   "outputs": [],
   "source": [
    "head(diabEUR_mergedRS)"
   ]
  },
  {
   "cell_type": "code",
   "execution_count": null,
   "id": "14",
   "metadata": {},
   "outputs": [],
   "source": [
    "N <- diabEUR_mergedRS$Neff\n",
    "N <- as.numeric(N)\n",
    "N <- na.omit(N)\n",
    "max(N)"
   ]
  },
  {
   "cell_type": "markdown",
   "id": "15",
   "metadata": {},
   "source": [
    "## Calculate PRS "
   ]
  },
  {
   "cell_type": "code",
   "execution_count": null,
   "id": "16",
   "metadata": {},
   "outputs": [],
   "source": [
    "cd ~/scripts/\n",
    "cat ./run_prscs_eur.sh\n",
    "cat ./prscs_eur.sh "
   ]
  },
  {
   "cell_type": "code",
   "execution_count": null,
   "id": "17",
   "metadata": {},
   "outputs": [],
   "source": [
    "cd ~/scripts\n",
    "sh run_prscs_eur.sh /project/rkemberlab/summary_stats/reformatted_sumstats/prscs_prscsx/T2D_eur_Suzuki2024_reformatted_sumstats.txt 751755 /home/mlreed/PRSCalcs/EUR/T2D/ Suzuki2024T2D_EUR   "
   ]
  },
  {
   "cell_type": "code",
   "execution_count": null,
   "id": "18",
   "metadata": {},
   "outputs": [],
   "source": [
    "cd ~/scripts\n",
    "sh run_prscs_eur.sh /project/rkemberlab/summary_stats/reformatted_sumstats/prscs_prscsx/T2D_eur_Suzuki2024_reformatted_sumstats.txt 751755 /home/mlreed/PRSCalcs/EUR/T2D/ Suzuki2024T2D_EUR   "
   ]
  },
  {
   "cell_type": "code",
   "execution_count": null,
   "id": "19",
   "metadata": {},
   "outputs": [],
   "source": [
    "module load plink-1.90b3b\n",
    "plink \\\n",
    "--bfile /project/kranzlerlab/datasets/PMBB/Genotype/PMBB-Release-2020-2.0/PMBB-Release-2020-2.0_genetic_imputed-topmed-r2_chrAll_1kg_hm3_afr_newID_AFR \\\n",
    "--score prscs_AFR_CUD_pst_eff_a1_b0.5_phiauto_chrALL.txt 2 4 6 \\\n",
    "--out PRS_prscs_AFR_CUD"
   ]
  },
  {
   "cell_type": "code",
   "execution_count": null,
   "id": "20",
   "metadata": {},
   "outputs": [],
   "source": [
    "### Diabetes Pheno Type ()\n",
    "\n",
    "\n",
    "library(data.table)\n",
    "      diabetesAFRData <- fread('/project/rkemberlab/summary_stats/AFR/Suzuki_2024_T2D_AFR-v2.txt') #input file names\n",
    "      head(diabetesAFRData)\n",
    "      #diabAFRdf <- diabAFR_mergedRS[,c('SNP','EffectAllele','NonEffectAllele','Beta','Pval')] #ouput file names\n",
    "      #names(diabAFRdf) <- c('SNP','A1','A2','BETA','P')\n",
    "      # Upper the Allele\n",
    "     # diabAFRdf$A1 <- toupper(diabAFRdf$A1)\n",
    "     # diabAFRdf$A2 <- toupper(diabAFRdf$A2)\n",
    "     # fwrite(diabAFRdf,'/project/rkemberlab/summary_stats/reformatted_sumstats/prscs_prscsx/T2D_afr_Suzuki2024_reformatted_sumstats.txt',row.names = F,col.names = T,sep = '\\t')\n",
    "     # head(diabAFRdf)\n"
   ]
  },
  {
   "cell_type": "code",
   "execution_count": null,
   "id": "21",
   "metadata": {},
   "outputs": [],
   "source": [
    "snpinfoAFR <- fread('/project/rkemberlab/tools/PRScs/PRScsScore/ldblk_1kg_afr/snpinfo_1kg_hm3')\n",
    "head(snpinfoAFR)"
   ]
  },
  {
   "cell_type": "code",
   "execution_count": null,
   "id": "22",
   "metadata": {},
   "outputs": [],
   "source": [
    "diabAFR_mergedRS_1 <- merge(diabetesAFRData, snpinfoAFR, by.x = c('Chromsome', 'Position', 'EffectAllele', 'NonEffectAllele'), by.y = c('CHR', 'BP', 'A1', 'A2'))"
   ]
  },
  {
   "cell_type": "code",
   "execution_count": null,
   "id": "23",
   "metadata": {},
   "outputs": [],
   "source": [
    "diabAFR_mergedRS_2 <- merge(diabetesAFRData, snpinfoAFR, by.x = c('Chromsome', 'Position', 'EffectAllele', 'NonEffectAllele'), by.y = c('CHR', 'BP', 'A2', 'A1'))"
   ]
  },
  {
   "cell_type": "code",
   "execution_count": null,
   "id": "24",
   "metadata": {},
   "outputs": [],
   "source": [
    "nrow(diabAFR_mergedRS_1)\n",
    "nrow(diabAFR_mergedRS_2)"
   ]
  },
  {
   "cell_type": "code",
   "execution_count": null,
   "id": "25",
   "metadata": {},
   "outputs": [],
   "source": [
    "diabAFR_mergedRS <- rbind(diabAFR_mergedRS_1, diabAFR_mergedRS_2)\n",
    "nrow(diabAFR_mergedRS)\n",
    "head(diabAFR_mergedRS)"
   ]
  },
  {
   "cell_type": "code",
   "execution_count": null,
   "id": "26",
   "metadata": {},
   "outputs": [],
   "source": [
    "N <- diabAFR_mergedRS$Neff\n",
    "N <- as.numeric(N)\n",
    "N <- na.omit(N)\n",
    "max(N)"
   ]
  },
  {
   "cell_type": "code",
   "execution_count": null,
   "id": "27",
   "metadata": {},
   "outputs": [],
   "source": [
    "### Diabetes Pheno Type ()\n",
    "\n",
    "\n",
    "library(data.table)\n",
    "      #diabetesAFRData <- fread('/project/rkemberlab/summary_stats/AFR/Suzuki_2024_T2D_AFR-v2.txt') #input file names\n",
    "      #head(diabetesAFRData)\n",
    "      diabAFRdf <- diabAFR_mergedRS[,c('SNP','EffectAllele','NonEffectAllele','Beta','Pval')] #ouput file names\n",
    "      names(diabAFRdf) <- c('SNP','A1','A2','BETA','P')\n",
    "      # Upper the Allele\n",
    "      diabAFRdf$A1 <- toupper(diabAFRdf$A1)\n",
    "      diabAFRdf$A2 <- toupper(diabAFRdf$A2)\n",
    "      fwrite(diabAFRdf,'/project/rkemberlab/summary_stats/reformatted_sumstats/prscs_prscsx/T2D_afr_Suzuki2024_reformatted_sumstats.txt',row.names = F,col.names = T,sep = '\\t')\n",
    "      head(diabAFRdf)\n"
   ]
  },
  {
   "cell_type": "code",
   "execution_count": null,
   "id": "28",
   "metadata": {},
   "outputs": [],
   "source": [
    "head(cardioData)"
   ]
  },
  {
   "cell_type": "code",
   "execution_count": null,
   "id": "29",
   "metadata": {},
   "outputs": [],
   "source": [
    "snpinfoEUR <- fread('/project/rkemberlab/tools/PRScs/PRScsScore/ldblk_1kg_eur/snpinfo_1kg_hm3')\n",
    "head(snpinfoEUR)"
   ]
  },
  {
   "cell_type": "code",
   "execution_count": null,
   "id": "30",
   "metadata": {},
   "outputs": [],
   "source": [
    "cardio_mergedRS_1 <- merge(cardioData, snpinfoEUR, by.x = c('chr', 'bp_hg19', 'effect_allele', 'noneffect_allele'), by.y = c('CHR', 'BP', 'A1', 'A2'))\n",
    "cardio_mergedRS_2 <- merge(cardioData, snpinfoEUR, by.x = c('chr', 'bp_hg19', 'effect_allele', 'noneffect_allele'), by.y = c('CHR', 'BP', 'A2', 'A1'))"
   ]
  },
  {
   "cell_type": "code",
   "execution_count": null,
   "id": "31",
   "metadata": {},
   "outputs": [],
   "source": [
    "nrow(cardio_mergedRS_1)\n",
    "nrow(cardio_mergedRS_2)\n",
    "cardio_mergedRS <- rbind(cardio_mergedRS_1, cardio_mergedRS_2)\n",
    "nrow(cardio_mergedRS)\n",
    "head(cardio_mergedRS)"
   ]
  },
  {
   "cell_type": "code",
   "execution_count": null,
   "id": "32",
   "metadata": {},
   "outputs": [],
   "source": [
    "library(data.table)\n",
    "      #diabetesAFRData <- fread('/project/rkemberlab/summary_stats/AFR/Suzuki_2024_T2D_AFR-v2.txt') #input file names\n",
    "      #head(diabetesAFRData)\n",
    "      cardioDf <- cardio_mergedRS[,c('SNP','effect_allele','noneffect_allele','beta','het_pvalue')] #ouput file names\n",
    "      names(cardioDf) <- c('SNP','A1','A2','BETA','P')\n",
    "      # Upper the Allele\n",
    "      cardioDf$A1 <- toupper(cardioDf$A1)\n",
    "      cardioDf$A2 <- toupper(cardioDf$A2)\n",
    "      fwrite(cardioDf,'/project/rkemberlab/summary_stats/reformatted_sumstats/prscs_prscsx/cardio_eur_Nelson2017_reformatted_sumstats.txt',row.names = F,col.names = T,sep = '\\t')\n",
    "      head(cardioDf)"
   ]
  },
  {
   "cell_type": "code",
   "execution_count": null,
   "id": "33",
   "metadata": {},
   "outputs": [],
   "source": [
    "N <- cardio_mergedRS$n_studies\n",
    "N <- as.numeric(N)\n",
    "N <- na.omit(N)\n",
    "max(N)"
   ]
  },
  {
   "cell_type": "code",
   "execution_count": null,
   "id": "34",
   "metadata": {},
   "outputs": [],
   "source": [
    "# Define the number of cases and controls\n",
    "N_cases=60801\n",
    "N_controls=123504\n",
    "\n",
    "# Calculate Neff using bc\n",
    "cardioNeff=$(echo \"scale=2; (4 * ($N_cases * $N_controls)) / ($N_cases + $N_controls)\" | bc)\n",
    "\n",
    "# Print the result\n",
    "echo \"Effective sample size (Neff): $cardioNeff\"\n"
   ]
  },
  {
   "cell_type": "code",
   "execution_count": null,
   "id": "35",
   "metadata": {},
   "outputs": [],
   "source": []
  },
  {
   "cell_type": "code",
   "execution_count": null,
   "id": "36",
   "metadata": {},
   "outputs": [],
   "source": [
    "head(HDL_data)"
   ]
  },
  {
   "cell_type": "code",
   "execution_count": null,
   "id": "37",
   "metadata": {},
   "outputs": [],
   "source": [
    "module load plink-1.90b3b\n",
    "plink \\\n",
    "--bfile /project/rkemberlab/datasets/PMBB/Genotype/PMBB-Release-2020-2.0/PMBB-Release-2020-2.0_genetic_imputed-topmed-r2_chrAll_1kg_hm3_afr_newID_AFR \\\n",
    "--score /home/mlreed/PRSCalcs/AFR/T2D/prscs_AFR_Suzuki2024T2D_AFR_pst_eff_a1_b0.5_phiauto_chrALL.txt 2 4 6 \\\n",
    "--out PRS_prscs_AFR_T2S"
   ]
  },
  {
   "cell_type": "code",
   "execution_count": null,
   "id": "38",
   "metadata": {},
   "outputs": [],
   "source": []
  }
 ],
 "metadata": {
  "kernelspec": {
   "display_name": "Bash",
   "language": "bash",
   "name": "bash"
  },
  "language_info": {
   "codemirror_mode": "shell",
   "file_extension": ".sh",
   "mimetype": "text/x-sh",
   "name": "bash"
  }
 },
 "nbformat": 4,
 "nbformat_minor": 5
}
